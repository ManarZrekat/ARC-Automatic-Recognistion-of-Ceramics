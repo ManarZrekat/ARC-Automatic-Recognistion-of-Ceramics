{
 "cells": [
  {
   "cell_type": "code",
   "execution_count": 2,
   "metadata": {},
   "outputs": [
    {
     "name": "stdout",
     "output_type": "stream",
     "text": [
      "Collecting opencv-python-headless\n",
      "  Downloading opencv_python_headless-4.5.4.60-cp38-cp38-manylinux_2_17_x86_64.manylinux2014_x86_64.whl (47.6 MB)\n",
      "\u001b[K     |████████████████████████████████| 47.6 MB 5.4 MB/s eta 0:00:01\n",
      "\u001b[?25hRequirement already satisfied: numpy>=1.17.3 in /home/manar_zrekat_m/anaconda3/lib/python3.8/site-packages (from opencv-python-headless) (1.18.5)\n",
      "Installing collected packages: opencv-python-headless\n",
      "Successfully installed opencv-python-headless-4.5.4.60\n",
      "Note: you may need to restart the kernel to use updated packages.\n"
     ]
    }
   ],
   "source": [
    "pip install opencv-python-headless"
   ]
  },
  {
   "cell_type": "code",
   "execution_count": 3,
   "metadata": {},
   "outputs": [],
   "source": [
    "import imageio\n",
    "import imgaug as ia\n",
    "import imgaug.augmenters as iaa\n",
    "import numpy as np\n",
    "import pandas as pd\n",
    "import matplotlib.pyplot as plt\n",
    "import matplotlib.patches as patches\n",
    "import matplotlib\n",
    "%matplotlib inline"
   ]
  },
  {
   "cell_type": "code",
   "execution_count": 4,
   "metadata": {},
   "outputs": [],
   "source": [
    "def rotate(image,x,y):\n",
    "    rotate=iaa.Affine(rotate=(x, y))\n",
    "    rotated_image=rotate.augment_image(image)\n",
    "    return rotated_image"
   ]
  },
  {
   "cell_type": "code",
   "execution_count": 5,
   "metadata": {},
   "outputs": [],
   "source": [
    "# def rotate(image):\n",
    "#     rotate=iaa.Affine(rotate=(-50, 30))\n",
    "#     rotated_image=rotate.augment_image(image)\n",
    "#     return rotated_image"
   ]
  },
  {
   "cell_type": "code",
   "execution_count": 6,
   "metadata": {},
   "outputs": [],
   "source": [
    "def addnoise(image,x,y):\n",
    "    gaussian_noise=iaa.AdditiveGaussianNoise(x,y)\n",
    "    noise_image=gaussian_noise.augment_image(image)\n",
    "    return noise_image"
   ]
  },
  {
   "cell_type": "code",
   "execution_count": 7,
   "metadata": {},
   "outputs": [],
   "source": [
    "# def addnoise(image):\n",
    "#     gaussian_noise=iaa.AdditiveGaussianNoise(10,20)\n",
    "#     noise_image=gaussian_noise.augment_image(image)\n",
    "#     return noise_image"
   ]
  },
  {
   "cell_type": "code",
   "execution_count": 8,
   "metadata": {},
   "outputs": [],
   "source": [
    "def crop(image,x,y):\n",
    "    crop = iaa.Crop(percent=(x, y)) # crop image\n",
    "    corp_image=crop.augment_image(image)\n",
    "    return corp_image"
   ]
  },
  {
   "cell_type": "code",
   "execution_count": 9,
   "metadata": {},
   "outputs": [],
   "source": [
    "# def crop(image):\n",
    "#     crop = iaa.Crop(percent=(0, 0.3)) # crop image\n",
    "#     corp_image=crop.augment_image(image)\n",
    "#     return (corp_image)"
   ]
  },
  {
   "cell_type": "code",
   "execution_count": 10,
   "metadata": {},
   "outputs": [],
   "source": [
    "def shear(image,x,y):\n",
    "    shear = iaa.Affine(shear=(x,y))\n",
    "    shear_image=shear.augment_image(image)\n",
    "    return shear_image\n",
    "    "
   ]
  },
  {
   "cell_type": "code",
   "execution_count": 11,
   "metadata": {},
   "outputs": [],
   "source": [
    "# def shear(image):\n",
    "#     shear = iaa.Affine(shear=(0,40))\n",
    "#     shear_image=shear.augment_image(image)\n",
    "#     return (shear_image)"
   ]
  },
  {
   "cell_type": "code",
   "execution_count": 12,
   "metadata": {},
   "outputs": [],
   "source": [
    "def fliping(image,x):\n",
    "    flip_hr=iaa.Fliplr(p=x)\n",
    "    flip_hr_image= flip_hr.augment_image(image)\n",
    "    return (flip_hr_image)"
   ]
  },
  {
   "cell_type": "code",
   "execution_count": 13,
   "metadata": {},
   "outputs": [],
   "source": [
    "# def fliping(image):\n",
    "#     flip_hr=iaa.Fliplr(p=1.0)\n",
    "#     flip_hr_image= flip_hr.augment_image(image)\n",
    "#     return (flip_hr_image)"
   ]
  },
  {
   "cell_type": "code",
   "execution_count": 14,
   "metadata": {},
   "outputs": [],
   "source": [
    "def flipup(image,x):\n",
    "    flip_vr=iaa.Flipud(p=x)\n",
    "    flip_vr_image= flip_vr.augment_image(image)\n",
    "    return flip_vr_image"
   ]
  },
  {
   "cell_type": "code",
   "execution_count": 15,
   "metadata": {},
   "outputs": [],
   "source": [
    "# def flipup(image):\n",
    "#     flip_vr=iaa.Flipud(p=1.0)\n",
    "#     flip_vr_image= flip_vr.augment_image(image)\n",
    "#     return (flip_vr_image)"
   ]
  },
  {
   "cell_type": "code",
   "execution_count": 16,
   "metadata": {},
   "outputs": [],
   "source": [
    "def brightness(image,x):\n",
    "    contrast=iaa.GammaContrast(gamma=x)\n",
    "    contrast_image =contrast.augment_image(image)\n",
    "    return contrast_image\n"
   ]
  },
  {
   "cell_type": "code",
   "execution_count": 17,
   "metadata": {},
   "outputs": [],
   "source": [
    "# def brightness(image):\n",
    "#     contrast=iaa.GammaContrast(gamma=2.0)\n",
    "#     contrast_image =contrast.augment_image(image)\n",
    "#     return (contrast_image)"
   ]
  },
  {
   "cell_type": "code",
   "execution_count": 18,
   "metadata": {},
   "outputs": [],
   "source": [
    "# def scaling(image,x1,x2,y1,y2):\n",
    "#     scale_im=iaa.Affine(scale={\"x\": (x1, x2), \"y\": (y1, y2)})\n",
    "#     scale_image =scale_im.augment_image(image)\n",
    "#     return scale_image"
   ]
  },
  {
   "cell_type": "code",
   "execution_count": 19,
   "metadata": {},
   "outputs": [],
   "source": [
    "def scaling(image):\n",
    "    scale_im=iaa.Affine(scale={\"x\": (1.5, 1.0), \"y\": (1.5, 1.0)})\n",
    "    scale_image =scale_im.augment_image(image)\n",
    "    return (scale_image)"
   ]
  },
  {
   "cell_type": "code",
   "execution_count": null,
   "metadata": {},
   "outputs": [],
   "source": []
  },
  {
   "cell_type": "code",
   "execution_count": 20,
   "metadata": {},
   "outputs": [],
   "source": [
    "import string\n",
    "import random\n",
    "def id_generator(size=10, chars=string.ascii_uppercase + string.digits + string.ascii_lowercase):\n",
    "    return ''.join(random.choice(chars) for _ in range(size))"
   ]
  },
  {
   "cell_type": "code",
   "execution_count": 21,
   "metadata": {},
   "outputs": [],
   "source": [
    "from PIL import Image\n",
    "import os, os.path\n",
    "import cv2\n",
    "\n",
    "\n",
    "# imgs = []\n",
    "# counter =0\n",
    "path = \"images\"\n",
    "files= os.listdir(path)\n",
    "\n",
    "valid_images = [\".jpg\",\".gif\",\".png\",\".tga\"]\n",
    "for i in files:\n",
    "    newPath=\"newImages/\" + str(i)\n",
    "    path1 = \"images/\" +str(i)\n",
    "    for f in os.listdir(path1):\n",
    "        ext = os.path.splitext(f)[1]\n",
    "        if ext.lower() not in valid_images:\n",
    "            continue\n",
    "        cv2.imwrite(os.path.join(newPath , id_generator() +'.JPG'), cv2.imread(os.path.join(path1,f))) \n",
    "        \n",
    "        #rotate images\n",
    "        cv2.imwrite(os.path.join(newPath , id_generator() +'.JPG'), rotate(cv2.imread(os.path.join(path1,f)),-30,50))\n",
    "        cv2.imwrite(os.path.join(newPath , id_generator() +'.JPG'), rotate(cv2.imread(os.path.join(path1,f)),10,-50))\n",
    "        #cv2.imwrite(os.path.join(newPath , id_generator() +'.JPG'), rotate(cv2.imread(os.path.join(path1,f)),50,-10))\n",
    "        #cv2.imwrite(os.path.join(newPath , id_generator() +'.JPG'), rotate(cv2.imread(os.path.join(path1,f)),-40,20))\n",
    "        \n",
    "        #add noise parameters\n",
    "        cv2.imwrite(os.path.join(newPath , id_generator() +'.JPG'), addnoise(cv2.imread(os.path.join(path1,f)),10,20))\n",
    "        #cv2.imwrite(os.path.join(newPath , id_generator() +'.JPG'), addnoise(cv2.imread(os.path.join(path1,f)),20,40))\n",
    "        cv2.imwrite(os.path.join(newPath , id_generator() +'.JPG'), addnoise(cv2.imread(os.path.join(path1,f)),30,30))\n",
    "\n",
    "        #crop Images\n",
    "        cv2.imwrite(os.path.join(newPath , id_generator() +'.JPG'), crop(cv2.imread(os.path.join(path1,f)),0.1,0.2))\n",
    "        cv2.imwrite(os.path.join(newPath , id_generator() +'.JPG'), crop(cv2.imread(os.path.join(path1,f)),0,0.3))\n",
    "\n",
    "        #shear image\n",
    "        cv2.imwrite(os.path.join(newPath , id_generator() +'.JPG'), shear(cv2.imread(os.path.join(path1,f)),0,40))\n",
    "        #cv2.imwrite(os.path.join(newPath , id_generator() +'.JPG'), shear(cv2.imread(os.path.join(path1,f)),20,40))\n",
    "        #cv2.imwrite(os.path.join(newPath , id_generator() +'.JPG'), shear(cv2.imread(os.path.join(path1,f)),0,10))\n",
    "\n",
    "          #fliping\n",
    "        cv2.imwrite(os.path.join(newPath , id_generator() +'.JPG'), fliping(cv2.imread(os.path.join(path1,f)),1.0))\n",
    "\n",
    "          #flip up\n",
    "        cv2.imwrite(os.path.join(newPath , id_generator() +'.JPG'), flipup(cv2.imread(os.path.join(path1,f)),1.0))\n",
    "\n",
    "          #Brightness\n",
    "        cv2.imwrite(os.path.join(newPath , id_generator() +'.JPG'), brightness(cv2.imread(os.path.join(path1,f)),0.3))\n",
    "        cv2.imwrite(os.path.join(newPath , id_generator() +'.JPG'), brightness(cv2.imread(os.path.join(path1,f)),0.55))\n",
    "\n",
    "\n",
    "    os.listdir(path)"
   ]
  },
  {
   "cell_type": "code",
   "execution_count": null,
   "metadata": {},
   "outputs": [],
   "source": [
    "import os\n",
    "os.path.getsize('')"
   ]
  },
  {
   "cell_type": "code",
   "execution_count": null,
   "metadata": {},
   "outputs": [],
   "source": []
  }
 ],
 "metadata": {
  "kernelspec": {
   "display_name": "Python 3",
   "language": "python",
   "name": "python3"
  },
  "language_info": {
   "codemirror_mode": {
    "name": "ipython",
    "version": 3
   },
   "file_extension": ".py",
   "mimetype": "text/x-python",
   "name": "python",
   "nbconvert_exporter": "python",
   "pygments_lexer": "ipython3",
   "version": "3.8.3"
  }
 },
 "nbformat": 4,
 "nbformat_minor": 4
}
